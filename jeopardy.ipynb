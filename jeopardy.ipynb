{
 "cells": [
  {
   "cell_type": "code",
   "execution_count": null,
   "metadata": {},
   "outputs": [],
   "source": [
    "import pandas as pd\n",
    "pd.set_option('display.max_colwidth', -1) # display the full contents of the columns"
   ]
  },
  {
   "cell_type": "code",
   "execution_count": null,
   "metadata": {},
   "outputs": [],
   "source": [
    "jep = pd.read_csv('jeopardy.csv')\n",
    "jep.columns = ['Show Number','Air Date','Round','Category','Value','Question','Answer'] # removes leading whitespaces"
   ]
  },
  {
   "cell_type": "code",
   "execution_count": null,
   "metadata": {},
   "outputs": [],
   "source": [
    "jep.head(10) # to inspect the dataframe"
   ]
  },
  {
   "cell_type": "code",
   "execution_count": null,
   "metadata": {},
   "outputs": [],
   "source": [
    "def filter_theme(df, word_list):\n",
    "    filter = lambda x : all(word.lower() in x.lower() for word in word_list)\n",
    "    filtered_df = df[df.Question.apply(filter)]\n",
    "    return filtered_df"
   ]
  },
  {
   "cell_type": "code",
   "execution_count": null,
   "metadata": {
    "scrolled": false
   },
   "outputs": [],
   "source": [
    "# Filter the data for questions related to a particular theme.\n",
    "\n",
    "theme = ['Emperor','War'] # add any number of words in the list\n",
    "theme_jep = filter_theme(jep,theme)\n",
    "theme_jep"
   ]
  },
  {
   "cell_type": "code",
   "execution_count": null,
   "metadata": {},
   "outputs": [],
   "source": [
    "# Inspecting the values in the Value column to assess cleaning needs\n",
    "jep.Value.unique()"
   ]
  },
  {
   "cell_type": "code",
   "execution_count": null,
   "metadata": {
    "scrolled": true
   },
   "outputs": [],
   "source": [
    "# Reformatting the Value column to enable later calculations\n",
    "jep.Value = jep['Value'].replace('\\$','',regex=True)\n",
    "jep.Value = jep['Value'].replace(',','',regex=True)\n",
    "jep.Value = jep['Value'].replace('None','',regex=True)\n",
    "jep.Value = pd.to_numeric(jep.Value)"
   ]
  },
  {
   "cell_type": "code",
   "execution_count": null,
   "metadata": {},
   "outputs": [],
   "source": [
    "# Find the average reward\n",
    "jep.Value.mean()"
   ]
  },
  {
   "cell_type": "code",
   "execution_count": null,
   "metadata": {},
   "outputs": [],
   "source": [
    "# Find the median reward\n",
    "jep.Value.median()"
   ]
  },
  {
   "cell_type": "code",
   "execution_count": null,
   "metadata": {},
   "outputs": [],
   "source": [
    "# Find the average reward for Ireland related questions\n",
    "ireland_jep = filter_theme(jep,['Ireland'])\n",
    "ireland_jep.Value.mean()"
   ]
  },
  {
   "cell_type": "code",
   "execution_count": null,
   "metadata": {},
   "outputs": [],
   "source": [
    "# Find the average reward for Japan & War related questions\n",
    "japan_war_jep = filter_theme(jep,['Japan','War'])\n",
    "japan_war_jep.Value.mean()"
   ]
  },
  {
   "cell_type": "code",
   "execution_count": null,
   "metadata": {},
   "outputs": [],
   "source": [
    "# Find the average reward for Mathematics related questions\n",
    "maths_jep = filter_theme(jep,['Mathematics'])\n",
    "maths_jep.Value.mean()"
   ]
  },
  {
   "cell_type": "code",
   "execution_count": null,
   "metadata": {},
   "outputs": [],
   "source": [
    "# Find the questions with a reward higher than $10000\n",
    "jep[jep.Value > 10000]"
   ]
  },
  {
   "cell_type": "code",
   "execution_count": null,
   "metadata": {},
   "outputs": [],
   "source": [
    "# Find the average reward for the Double Jeopardy round\n",
    "jep[jep.Round == 'Double Jeopardy!'].Value.mean()"
   ]
  },
  {
   "cell_type": "code",
   "execution_count": null,
   "metadata": {},
   "outputs": [],
   "source": [
    "# Find the question with the highest reward\n",
    "jep[jep.Value == jep.Value.max()]"
   ]
  },
  {
   "cell_type": "code",
   "execution_count": null,
   "metadata": {},
   "outputs": [],
   "source": [
    "# How many shows are included in the dataframe?\n",
    "jep['Show Number'].nunique()"
   ]
  },
  {
   "cell_type": "code",
   "execution_count": null,
   "metadata": {},
   "outputs": [],
   "source": [
    "# How many categories of questions are there?\n",
    "len(jep.Category.unique())"
   ]
  },
  {
   "cell_type": "code",
   "execution_count": null,
   "metadata": {},
   "outputs": [],
   "source": [
    "# Find the count of the unique answers to all of the questions in a dataset\n",
    "\n",
    "def unique_answers(df):\n",
    "    x = df.groupby('Answer').count()\n",
    "    return x\n",
    "\n",
    "u_answers = unique_answers(jep).reset_index()\n",
    "u_answers\n"
   ]
  },
  {
   "cell_type": "code",
   "execution_count": null,
   "metadata": {},
   "outputs": [],
   "source": [
    "# What is the overall most common answer?\n",
    "\n",
    "u_answers = u_answers[['Answer','Question']]\n",
    "u_answers.columns = ['Answer','No of related questions']\n",
    "u_answers[u_answers['No of related questions'] == u_answers['No of related questions'].max()]"
   ]
  },
  {
   "cell_type": "code",
   "execution_count": null,
   "metadata": {},
   "outputs": [],
   "source": [
    "# Show the list of questions corresponding to the most common answer\n",
    "\n",
    "top_answer = u_answers[u_answers['No of related questions'] == u_answers['No of related questions'].max()].Answer\n",
    "\n",
    "jep[jep.Answer == top_answer.values[0]]"
   ]
  },
  {
   "cell_type": "code",
   "execution_count": null,
   "metadata": {},
   "outputs": [],
   "source": [
    "ireland_answers = unique_answers(ireland_jep)\n",
    "ireland_answers"
   ]
  },
  {
   "cell_type": "code",
   "execution_count": null,
   "metadata": {},
   "outputs": [],
   "source": [
    "# What is the most common answer to questions related to Ireland\n",
    "\n",
    "top_ire_answers = ireland_answers[ireland_answers.Question == ireland_answers.Question.max()]\n",
    "\n",
    "#max_ans = unique_answers(ireland_jep).max()\n"
   ]
  },
  {
   "cell_type": "code",
   "execution_count": null,
   "metadata": {},
   "outputs": [],
   "source": [
    "# Find the most common answer to questions on a particular theme, and display the corresponding questions\n",
    "\n",
    "def top_answer_questions(df,theme):\n",
    "    filtered_df = filter_theme(df,theme)\n",
    "#    print(filtered_df)\n",
    "    answers = unique_answers(filtered_df).reset_index() \n",
    "#    print(answers)\n",
    "    answers = answers[['Answer','Question']]\n",
    "    answers.columns = ['Answer','No of related questions']\n",
    "    top_answer = answers[answers['No of related questions'] == answers['No of related questions'].max()].Answer\n",
    "    if len(top_answer) == 0:\n",
    "        print('There are no questions related to this theme')\n",
    "    else:\n",
    "        print('The most common answer related to ', end='')\n",
    "        for word in theme:\n",
    "            print(word, end=' ')\n",
    "        print('is', end=' ')\n",
    "        print(\"'\", top_answer.values[0], \"'\", end=' with ')\n",
    "        print(answers['No of related questions'].max(), 'questions.')\n",
    "        print()\n",
    "#    print(answers[answers['No of related questions'] == answers['No of related questions'].max()])\n",
    "#    print()\n",
    "        rows_to_display = filtered_df[filtered_df.Answer == top_answer.values[0]].reset_index(drop=True)\n",
    "        print('Related questions:')\n",
    "        for i in range(0,len(rows_to_display)):\n",
    "            print(rows_to_display[['Question']].values[i])\n",
    "\n",
    "\n",
    "theme = ['Famine','Ireland']\n",
    "top_answer_questions(jep, theme)"
   ]
  },
  {
   "cell_type": "code",
   "execution_count": null,
   "metadata": {},
   "outputs": [],
   "source": [
    "theme = ['Basketball','New York']\n",
    "top_answer_questions(jep, theme)"
   ]
  },
  {
   "cell_type": "code",
   "execution_count": null,
   "metadata": {},
   "outputs": [],
   "source": [
    "# Find the top 5 most common answers to questions on a particular theme, and display the corresponding questions"
   ]
  }
 ],
 "metadata": {
  "kernelspec": {
   "display_name": "Python 3",
   "language": "python",
   "name": "python3"
  },
  "language_info": {
   "codemirror_mode": {
    "name": "ipython",
    "version": 3
   },
   "file_extension": ".py",
   "mimetype": "text/x-python",
   "name": "python",
   "nbconvert_exporter": "python",
   "pygments_lexer": "ipython3",
   "version": "3.7.4"
  }
 },
 "nbformat": 4,
 "nbformat_minor": 2
}
